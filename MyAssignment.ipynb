{
 "cells": [
  {
   "cell_type": "code",
   "execution_count": 1,
   "id": "457635fd-f769-4682-97fc-772cc7018103",
   "metadata": {},
   "outputs": [
    {
     "name": "stdout",
     "output_type": "stream",
     "text": [
      "Welcome to Data Science\n"
     ]
    }
   ],
   "source": [
    "print(\"Welcome to Data Science\")"
   ]
  },
  {
   "cell_type": "code",
   "execution_count": 2,
   "id": "45560655-835d-43c9-a7b1-0cf34c7e3fbe",
   "metadata": {},
   "outputs": [
    {
     "name": "stdout",
     "output_type": "stream",
     "text": [
      "Hi, I'm Praneela, I love Python for data science, and I've 7 years of experience\n"
     ]
    }
   ],
   "source": [
    "your_name = \"Praneela\"\n",
    "favourite_tool = \"Python\"\n",
    "years_experience = 7\n",
    "print(f\"Hi, I'm {your_name}, I love {favourite_tool} for data science, and I've {years_experience} years of experience\")"
   ]
  },
  {
   "cell_type": "code",
   "execution_count": 3,
   "id": "975e0a6d-aad8-4b75-ab73-c12141ec34a4",
   "metadata": {},
   "outputs": [
    {
     "name": "stdout",
     "output_type": "stream",
     "text": [
      "Record of Sales Data \n",
      "Records : 1500\n",
      "Missing Values : 45\n",
      "Accuracy : 94.5\n"
     ]
    }
   ],
   "source": [
    "dataset_name = \"Sales Data\"\n",
    "total_records = 1500\n",
    "missing_values = 45\n",
    "accuracy = 94.5\n",
    "print(f\"Record of {dataset_name} \\nRecords : {total_records }\\nMissing Values : {missing_values}\\nAccuracy : {accuracy}\")"
   ]
  },
  {
   "cell_type": "code",
   "execution_count": null,
   "id": "3e2ace19-5547-498d-8f34-253374610ba6",
   "metadata": {},
   "outputs": [],
   "source": []
  }
 ],
 "metadata": {
  "kernelspec": {
   "display_name": "Python [conda env:base] *",
   "language": "python",
   "name": "conda-base-py"
  },
  "language_info": {
   "codemirror_mode": {
    "name": "ipython",
    "version": 3
   },
   "file_extension": ".py",
   "mimetype": "text/x-python",
   "name": "python",
   "nbconvert_exporter": "python",
   "pygments_lexer": "ipython3",
   "version": "3.12.7"
  }
 },
 "nbformat": 4,
 "nbformat_minor": 5
}
