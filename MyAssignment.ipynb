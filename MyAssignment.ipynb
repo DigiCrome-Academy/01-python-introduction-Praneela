{
 "cells": [
  {
   "cell_type": "markdown",
   "id": "653cc8c2-5986-4b32-8c71-dedf85940c84",
   "metadata": {},
   "source": [
    "# Exercise 1.1"
   ]
  },
  {
   "cell_type": "code",
   "execution_count": 1,
   "id": "457635fd-f769-4682-97fc-772cc7018103",
   "metadata": {},
   "outputs": [
    {
     "name": "stdout",
     "output_type": "stream",
     "text": [
      "Welcome to Data Science\n"
     ]
    }
   ],
   "source": [
    "print(\"Welcome to Data Science\")"
   ]
  },
  {
   "cell_type": "markdown",
   "id": "dfbd2838-3caf-45af-af47-bdd180c2ee24",
   "metadata": {
    "jp-MarkdownHeadingCollapsed": true
   },
   "source": [
    "# Exercise 2.1"
   ]
  },
  {
   "cell_type": "code",
   "execution_count": 2,
   "id": "45560655-835d-43c9-a7b1-0cf34c7e3fbe",
   "metadata": {},
   "outputs": [
    {
     "name": "stdout",
     "output_type": "stream",
     "text": [
      "Hi, I'm Praneela, I love Python for data science, and I've 7 years of experience\n"
     ]
    }
   ],
   "source": [
    "your_name = \"Praneela\"\n",
    "favourite_tool = \"Python\"\n",
    "years_experience = 7\n",
    "print(f\"Hi, I'm {your_name}, I love {favourite_tool} for data science, and I've {years_experience} years of experience\")"
   ]
  },
  {
   "cell_type": "markdown",
   "id": "d59b9f87-cee1-4ce3-86e1-e13c1e37275b",
   "metadata": {
    "jp-MarkdownHeadingCollapsed": true
   },
   "source": [
    "# Exercise 2.2"
   ]
  },
  {
   "cell_type": "code",
   "execution_count": 3,
   "id": "975e0a6d-aad8-4b75-ab73-c12141ec34a4",
   "metadata": {},
   "outputs": [
    {
     "name": "stdout",
     "output_type": "stream",
     "text": [
      "Record of Sales Data \n",
      "Records : 1500\n",
      "Missing Values : 45\n",
      "Accuracy : 94.5\n"
     ]
    }
   ],
   "source": [
    "dataset_name = \"Sales Data\"\n",
    "total_records = 1500\n",
    "missing_values = 45\n",
    "accuracy = 94.5\n",
    "print(f\"Record of {dataset_name} \\nRecords : {total_records }\\nMissing Values : {missing_values}\\nAccuracy : {accuracy}\")"
   ]
  },
  {
   "cell_type": "markdown",
   "id": "18c5edb8-c85e-4bc3-9735-2b4e9b4e70fd",
   "metadata": {
    "jp-MarkdownHeadingCollapsed": true
   },
   "source": [
    "# Exercise 3.1\n"
   ]
  },
  {
   "cell_type": "code",
   "execution_count": null,
   "id": "fa3e994e-37af-4d46-8ff4-6e9f77559826",
   "metadata": {},
   "outputs": [],
   "source": [
    "name = input (\"Enter Name : \")\n",
    "age = int(input(\" Enter Age : \"))\n",
    "annualIncome =  float(input(\"Enter Income : \")) \n",
    "income = format(annualIncome, \".2f\")\n",
    "YearsOfEducation  = int(input (\"Enter number of years of education : \"))\n",
    "\n",
    "print(\"\\n Summary Of Collected Data .....\")\n",
    "print(f\"Name is {name}\")\n",
    "print(f\"Age is {age}\")\n",
    "print(f\"Annual Income is {income}\")\n",
    "print(f\"No: of Years of education is {YearsOfEducation}\")\n",
    "         "
   ]
  },
  {
   "cell_type": "markdown",
   "id": "29f952ae-acc7-465f-b962-ff0895d10fff",
   "metadata": {},
   "source": [
    "# Exercise 3.2"
   ]
  },
  {
   "cell_type": "code",
   "execution_count": 10,
   "id": "7f74a8d9-9dc9-4281-acb3-f75920657f55",
   "metadata": {},
   "outputs": [
    {
     "name": "stdin",
     "output_type": "stream",
     "text": [
      "Enter your name ? Ryan\n",
      "Enter your weight in kg? 35.3454\n",
      "Enter your height in meters ? 145.5767\n"
     ]
    },
    {
     "name": "stdout",
     "output_type": "stream",
     "text": [
      "Name : Ryan\n",
      "Weight : 35.3454 kg \n",
      "Height : 145.5767 m\n",
      "BMI : 0.00\n"
     ]
    }
   ],
   "source": [
    "name = input(\"Enter your name ?\")\n",
    "weight_input = float(input(\"Enter your weight in kg?\"))\n",
    "height_input = float(input(\"Enter your height in meters ?\"))\n",
    "\n",
    "BMI = weight_input / (height_input ** 2)\n",
    "\n",
    "bmi_results = format(BMI, \".2f\")\n",
    "print(f\"Name : {name}\")\n",
    "print(f\"Weight : {weight_input} kg \")\n",
    "print(f\"Height : {height_input} m\")\n",
    "print(f\"BMI : {BMI:.2f}\")\n"
   ]
  },
  {
   "cell_type": "code",
   "execution_count": null,
   "id": "6983fd1f-8e0e-41c3-8b21-4ddd9b2f22c8",
   "metadata": {},
   "outputs": [],
   "source": []
  }
 ],
 "metadata": {
  "kernelspec": {
   "display_name": "Python [conda env:base] *",
   "language": "python",
   "name": "conda-base-py"
  },
  "language_info": {
   "codemirror_mode": {
    "name": "ipython",
    "version": 3
   },
   "file_extension": ".py",
   "mimetype": "text/x-python",
   "name": "python",
   "nbconvert_exporter": "python",
   "pygments_lexer": "ipython3",
   "version": "3.12.7"
  }
 },
 "nbformat": 4,
 "nbformat_minor": 5
}
